{
 "cells": [
  {
   "cell_type": "code",
   "execution_count": 74,
   "metadata": {},
   "outputs": [],
   "source": []
  },
  {
   "cell_type": "code",
   "execution_count": 75,
   "metadata": {},
   "outputs": [
    {
     "name": "stdout",
     "output_type": "stream",
     "text": [
      "tools/analysis/vis_heatmap/pred_heatmap_1.png\n",
      "False\n",
      "tools/analysis/vis_heatmap/pred_heatmap_2.png\n",
      "False\n",
      "tools/analysis/vis_heatmap/pred_heatmap_3.png\n",
      "False\n",
      "tools/analysis/vis_heatmap/pred_heatmap_4.png\n",
      "False\n",
      "tools/analysis/vis_heatmap/pred_heatmap_5.png\n",
      "False\n",
      "tools/analysis/vis_heatmap/pred_heatmap_6.png\n",
      "False\n",
      "tools/analysis/vis_heatmap/pred_heatmap_7.png\n",
      "False\n",
      "tools/analysis/vis_heatmap/pred_heatmap_8.png\n",
      "False\n",
      "tools/analysis/vis_heatmap/pred_heatmap_9.png\n",
      "False\n",
      "tools/analysis/vis_heatmap/pred_heatmap_10.png\n",
      "False\n",
      "tools/analysis/vis_heatmap/pred_heatmap_11.png\n",
      "False\n",
      "tools/analysis/vis_heatmap/pred_heatmap_12.png\n",
      "False\n",
      "tools/analysis/vis_heatmap/pred_heatmap_13.png\n",
      "False\n",
      "tools/analysis/vis_heatmap/pred_heatmap_14.png\n",
      "False\n",
      "tools/analysis/vis_heatmap/pred_heatmap_15.png\n",
      "False\n",
      "tools/analysis/vis_heatmap/pred_heatmap_16.png\n",
      "False\n",
      "tools/analysis/vis_heatmap/pred_heatmap_17.png\n",
      "False\n"
     ]
    }
   ],
   "source": []
  },
  {
   "cell_type": "code",
   "execution_count": null,
   "metadata": {},
   "outputs": [],
   "source": []
  }
 ],
 "metadata": {
  "kernelspec": {
   "display_name": "pct",
   "language": "python",
   "name": "python3"
  },
  "language_info": {
   "codemirror_mode": {
    "name": "ipython",
    "version": 3
   },
   "file_extension": ".py",
   "mimetype": "text/x-python",
   "name": "python",
   "nbconvert_exporter": "python",
   "pygments_lexer": "ipython3",
   "version": "3.8.16"
  },
  "orig_nbformat": 4
 },
 "nbformat": 4,
 "nbformat_minor": 2
}
